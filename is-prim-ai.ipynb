{
 "cells": [
  {
   "cell_type": "markdown",
   "id": "ab43dbca-9f82-4d94-bd5c-44d4c7c0ed7d",
   "metadata": {},
   "source": [
    "# Prime testing with a neural network"
   ]
  },
  {
   "cell_type": "markdown",
   "id": "e9dbbb62-9e23-434c-a515-3d5c4365fbbd",
   "metadata": {},
   "source": [
    "## Imports"
   ]
  },
  {
   "cell_type": "code",
   "execution_count": 1,
   "id": "2d62fc77-980e-439b-ae92-ebad6be438ca",
   "metadata": {},
   "outputs": [],
   "source": [
    "import tensorflow as tf\n",
    "import numpy as np\n",
    "\n",
    "import sympy\n",
    "import random"
   ]
  },
  {
   "cell_type": "markdown",
   "id": "0da29506-28b3-409f-a536-3738d61dac61",
   "metadata": {},
   "source": [
    "## Parameters"
   ]
  },
  {
   "cell_type": "code",
   "execution_count": 2,
   "id": "27d54842-75d9-427f-a4c7-812be21ac2e2",
   "metadata": {},
   "outputs": [
    {
     "name": "stdout",
     "output_type": "stream",
     "text": [
      "10000000000\n",
      "1000000\n",
      "500000\n",
      "500000\n",
      "900000\n",
      "100000\n"
     ]
    }
   ],
   "source": [
    "magnitude = 10\n",
    "max_number = 10 ** magnitude\n",
    "card_total = 10 ** 6\n",
    "percentage_primes = 0.5\n",
    "card_primes = int(percentage_primes * card_total)\n",
    "card_non_primes = card_total - card_primes\n",
    "percentage_train_set = 0.9\n",
    "card_train_set = int(percentage_train_set * card_total)\n",
    "card_test_set = card_total - card_train_set\n",
    "\n",
    "print(max_number)\n",
    "print(card_total)\n",
    "print(card_primes)\n",
    "print(card_non_primes)\n",
    "print(card_train_set)\n",
    "print(card_test_set)"
   ]
  },
  {
   "cell_type": "markdown",
   "id": "19a5eca8-099a-467d-bf63-c49770fc29d5",
   "metadata": {},
   "source": [
    "## Generation of input data"
   ]
  },
  {
   "cell_type": "markdown",
   "id": "5a31cb3e-178f-4633-936f-6ada1cd44ba7",
   "metadata": {},
   "source": [
    "### Generation of primes"
   ]
  },
  {
   "cell_type": "code",
   "execution_count": 3,
   "id": "0bd8da9b-dd5d-44aa-9468-a90640d9817b",
   "metadata": {},
   "outputs": [
    {
     "name": "stdout",
     "output_type": "stream",
     "text": [
      "Wall time: 37.8 s\n"
     ]
    }
   ],
   "source": [
    "%%time\n",
    "primes = set()\n",
    "while True:\n",
    "    a_prime = sympy.randprime(1, max_number)\n",
    "    if a_prime not in primes:\n",
    "        primes.add(a_prime)\n",
    "    if len(primes) == card_primes:\n",
    "        break"
   ]
  },
  {
   "cell_type": "code",
   "execution_count": 4,
   "id": "8912838d-0419-4f10-9843-017184e23ceb",
   "metadata": {},
   "outputs": [
    {
     "data": {
      "text/plain": [
       "500000"
      ]
     },
     "execution_count": 4,
     "metadata": {},
     "output_type": "execute_result"
    }
   ],
   "source": [
    "len(primes)"
   ]
  },
  {
   "cell_type": "markdown",
   "id": "e92917c8-42ae-4f35-b032-cb22afc19d12",
   "metadata": {},
   "source": [
    "### Generation of non-primes"
   ]
  },
  {
   "cell_type": "code",
   "execution_count": 5,
   "id": "5681aa61-735c-4448-aced-65249f78a8e3",
   "metadata": {},
   "outputs": [
    {
     "name": "stdout",
     "output_type": "stream",
     "text": [
      "Wall time: 2.12 s\n"
     ]
    }
   ],
   "source": [
    "%%time\n",
    "rands = np.random.randint(max_number, size=card_non_primes, dtype=np.int64)\n",
    "rands = set(rands)\n",
    "rands = {x for x in rands if not sympy.isprime(x)}\n",
    "non_primes = rands\n",
    "while True:\n",
    "    a_rand = np.random.randint(max_number, dtype=np.int64)\n",
    "    if not sympy.isprime(a_rand) and a_rand not in non_primes:\n",
    "        non_primes.add(a_rand)\n",
    "    if len(non_primes) == card_non_primes:\n",
    "        break"
   ]
  },
  {
   "cell_type": "code",
   "execution_count": 6,
   "id": "a16aaff7-104a-4de3-b2a8-eee6c8a286f2",
   "metadata": {},
   "outputs": [
    {
     "data": {
      "text/plain": [
       "500000"
      ]
     },
     "execution_count": 6,
     "metadata": {},
     "output_type": "execute_result"
    }
   ],
   "source": [
    "len(non_primes)"
   ]
  },
  {
   "cell_type": "code",
   "execution_count": 7,
   "id": "fec4c662-a546-46f3-b17a-b34f2a9c9678",
   "metadata": {},
   "outputs": [],
   "source": [
    "rand_numbers = list(primes.union(non_primes))\n",
    "random.shuffle(rand_numbers)"
   ]
  },
  {
   "cell_type": "code",
   "execution_count": 8,
   "id": "0fac660e-95cc-4a14-b61f-d038cb1a234c",
   "metadata": {},
   "outputs": [
    {
     "data": {
      "text/plain": [
       "1000000"
      ]
     },
     "execution_count": 8,
     "metadata": {},
     "output_type": "execute_result"
    }
   ],
   "source": [
    "len(rand_numbers)"
   ]
  },
  {
   "cell_type": "code",
   "execution_count": 9,
   "id": "df88cf65-1ba2-4edd-8e83-0f78bcbf5add",
   "metadata": {},
   "outputs": [],
   "source": [
    "labels = [1 if sympy.isprime(x) else 0 for x in rand_numbers]"
   ]
  },
  {
   "cell_type": "code",
   "execution_count": 10,
   "id": "1d8cad4e-0f68-4961-a346-eae38dd412e6",
   "metadata": {},
   "outputs": [
    {
     "data": {
      "text/plain": [
       "500000"
      ]
     },
     "execution_count": 10,
     "metadata": {},
     "output_type": "execute_result"
    }
   ],
   "source": [
    "sum(labels)"
   ]
  },
  {
   "cell_type": "markdown",
   "id": "84fc1133-8a3b-432f-8ec5-0a3d873490da",
   "metadata": {},
   "source": [
    "## Build neural network"
   ]
  },
  {
   "cell_type": "markdown",
   "id": "b0549d55-9b47-4835-a3f8-4842f3b0bb39",
   "metadata": {},
   "source": [
    "### Coding of numbers"
   ]
  },
  {
   "cell_type": "code",
   "execution_count": 11,
   "id": "3d681374-47cd-4608-941f-f643b65909a3",
   "metadata": {},
   "outputs": [],
   "source": [
    "def transform_number_to_array(number):\n",
    "    return [int(x) / 10 for x in str(number).zfill(magnitude)]"
   ]
  },
  {
   "cell_type": "markdown",
   "id": "285471e1-ffc1-4b26-b10b-da1e71c696cf",
   "metadata": {},
   "source": [
    "### Generation of train set and labels"
   ]
  },
  {
   "cell_type": "code",
   "execution_count": 12,
   "id": "ed4e334d-2456-47e0-9904-bb6f0671affa",
   "metadata": {},
   "outputs": [],
   "source": [
    "train_set = np.array([transform_number_to_array(x) for x in rand_numbers[:card_train_set]])\n",
    "train_labels = np.array([sympy.isprime(x) for x in rand_numbers[:card_train_set]])"
   ]
  },
  {
   "cell_type": "code",
   "execution_count": 13,
   "id": "64b631f8-6086-43ef-935d-d82818bf06c1",
   "metadata": {},
   "outputs": [
    {
     "name": "stdout",
     "output_type": "stream",
     "text": [
      "(900000, 10)\n",
      "(900000,)\n"
     ]
    }
   ],
   "source": [
    "print(train_set.shape)\n",
    "print(train_labels.shape)"
   ]
  },
  {
   "cell_type": "markdown",
   "id": "01b8cbcd-b6e7-444f-8e70-990b886d7073",
   "metadata": {},
   "source": [
    "## Generation of test set and labels"
   ]
  },
  {
   "cell_type": "code",
   "execution_count": 14,
   "id": "6d7d095a-2bf3-4446-b83f-d86e75ee235d",
   "metadata": {},
   "outputs": [],
   "source": [
    "test_numbers = rand_numbers[card_train_set:]\n",
    "test_set = np.array([transform_number_to_array(x) for x in rand_numbers[card_train_set:]])\n",
    "test_labels = np.array([sympy.isprime(x) for x in rand_numbers[card_train_set:]])"
   ]
  },
  {
   "cell_type": "code",
   "execution_count": 15,
   "id": "0dda0270-74c4-4daa-8c39-fb87c614ebc2",
   "metadata": {},
   "outputs": [
    {
     "name": "stdout",
     "output_type": "stream",
     "text": [
      "(100000, 10)\n",
      "(100000,)\n"
     ]
    }
   ],
   "source": [
    "print(test_set.shape)\n",
    "print(test_labels.shape)"
   ]
  },
  {
   "cell_type": "code",
   "execution_count": 16,
   "id": "c79e26a7-9d31-46b8-99b4-988de5b1513a",
   "metadata": {},
   "outputs": [
    {
     "name": "stdout",
     "output_type": "stream",
     "text": [
      "500000\n"
     ]
    }
   ],
   "source": [
    "print(sum(train_labels) + sum(test_labels))"
   ]
  },
  {
   "cell_type": "markdown",
   "id": "aca37262-5e4f-4dce-a9dd-712805497a99",
   "metadata": {},
   "source": [
    "### Specification and compilation of the neural network"
   ]
  },
  {
   "cell_type": "code",
   "execution_count": 17,
   "id": "25823ad8-21f8-4d86-97b7-59d4dab2a2a1",
   "metadata": {},
   "outputs": [],
   "source": [
    "model = tf.keras.Sequential([\n",
    "    tf.keras.layers.Dense(magnitude),\n",
    "    tf.keras.layers.Dense(3, activation='relu'),\n",
    "    tf.keras.layers.Dense(128, activation='relu'),\n",
    "    tf.keras.layers.Dense(2)\n",
    "])"
   ]
  },
  {
   "cell_type": "code",
   "execution_count": 18,
   "id": "13ef548f-585b-4012-920d-dc23610438c9",
   "metadata": {},
   "outputs": [],
   "source": [
    "model.compile(optimizer='adam',\n",
    "              loss=tf.keras.losses.SparseCategoricalCrossentropy(from_logits=True),\n",
    "              metrics=['accuracy'])"
   ]
  },
  {
   "cell_type": "markdown",
   "id": "2f96efae-0878-494c-bc50-26fc88c3cb5f",
   "metadata": {},
   "source": [
    "### Training"
   ]
  },
  {
   "cell_type": "code",
   "execution_count": 19,
   "id": "dffa2d9f-35d7-4e9e-8032-beec710b477c",
   "metadata": {},
   "outputs": [
    {
     "name": "stdout",
     "output_type": "stream",
     "text": [
      "Epoch 1/10\n",
      "28125/28125 [==============================] - 40s 1ms/step - loss: 0.5730 - accuracy: 0.6581\n",
      "Epoch 2/10\n",
      "28125/28125 [==============================] - 40s 1ms/step - loss: 0.5193 - accuracy: 0.7085\n",
      "Epoch 3/10\n",
      "28125/28125 [==============================] - 40s 1ms/step - loss: 0.5184 - accuracy: 0.7088\n",
      "Epoch 4/10\n",
      "28125/28125 [==============================] - 40s 1ms/step - loss: 0.5153 - accuracy: 0.7099\n",
      "Epoch 5/10\n",
      "28125/28125 [==============================] - 42s 1ms/step - loss: 0.4792 - accuracy: 0.7586\n",
      "Epoch 6/10\n",
      "28125/28125 [==============================] - 46s 2ms/step - loss: 0.4659 - accuracy: 0.7610\n",
      "Epoch 7/10\n",
      "28125/28125 [==============================] - 42s 1ms/step - loss: 0.4635 - accuracy: 0.7609\n",
      "Epoch 8/10\n",
      "28125/28125 [==============================] - 40s 1ms/step - loss: 0.4624 - accuracy: 0.7611\n",
      "Epoch 9/10\n",
      "28125/28125 [==============================] - 40s 1ms/step - loss: 0.4620 - accuracy: 0.7609\n",
      "Epoch 10/10\n",
      "28125/28125 [==============================] - 41s 1ms/step - loss: 0.4617 - accuracy: 0.7609\n"
     ]
    },
    {
     "data": {
      "text/plain": [
       "<keras.callbacks.History at 0x22b6897f808>"
      ]
     },
     "execution_count": 19,
     "metadata": {},
     "output_type": "execute_result"
    }
   ],
   "source": [
    "model.fit(train_set, train_labels, epochs=10)"
   ]
  },
  {
   "cell_type": "markdown",
   "id": "6b432e30-419f-4a57-a2b2-227de4c1b0c8",
   "metadata": {},
   "source": [
    "## Evaluation"
   ]
  },
  {
   "cell_type": "code",
   "execution_count": 20,
   "id": "b9b8bc04-8423-4a02-b18c-d9c4204c302b",
   "metadata": {},
   "outputs": [
    {
     "name": "stdout",
     "output_type": "stream",
     "text": [
      "3125/3125 - 4s - loss: 0.4597 - accuracy: 0.7614 - 4s/epoch - 1ms/step\n"
     ]
    }
   ],
   "source": [
    "test_loss, test_acc = model.evaluate(test_set,  test_labels, verbose=2)"
   ]
  },
  {
   "cell_type": "code",
   "execution_count": 21,
   "id": "887df2db-7c64-45c2-b921-8875c76b8d4e",
   "metadata": {},
   "outputs": [],
   "source": [
    "probability_model = tf.keras.Sequential([model, tf.keras.layers.Softmax()])"
   ]
  },
  {
   "cell_type": "code",
   "execution_count": 22,
   "id": "07bee5a1-5385-4c29-aa4b-9cb747f77ccc",
   "metadata": {},
   "outputs": [
    {
     "name": "stdout",
     "output_type": "stream",
     "text": [
      "3125/3125 [==============================] - 4s 1ms/step\n"
     ]
    }
   ],
   "source": [
    "predictions = probability_model.predict(test_set)"
   ]
  },
  {
   "cell_type": "code",
   "execution_count": 23,
   "id": "97b7203f-f2a5-493b-8321-53c5e4b90713",
   "metadata": {},
   "outputs": [
    {
     "name": "stdout",
     "output_type": "stream",
     "text": [
      "False, 9152640312, 2%\n",
      "True, 2807304179, 69%\n",
      "False, 2515080634, 1%\n",
      "False, 1438361899, 70%\n",
      "True, 2201127217, 56%\n",
      "False, 7918550671, 68%\n",
      "False, 5823640360, 0%\n",
      "True, 2585916409, 69%\n",
      "True, 6699799657, 56%\n",
      "True, 625738957, 56%\n",
      "False, 6109435559, 70%\n",
      "True, 4283276183, 72%\n",
      "True, 1108577317, 56%\n",
      "True, 4908443093, 72%\n",
      "True, 5195950429, 69%\n",
      "True, 5311370767, 56%\n",
      "True, 7224214357, 56%\n",
      "True, 4920053891, 66%\n",
      "True, 7570249433, 73%\n",
      "False, 4842038371, 64%\n"
     ]
    }
   ],
   "source": [
    "for i in range(20):\n",
    "    nb = test_numbers[i]\n",
    "    prob = predictions[i]\n",
    "    print(\"{}, {}, {:.0%}\".format(sympy.isprime(nb), nb, prob[1]))"
   ]
  },
  {
   "cell_type": "code",
   "execution_count": 24,
   "id": "4b934839-2dca-4cb9-a200-7d5d546e5b77",
   "metadata": {},
   "outputs": [
    {
     "name": "stdout",
     "output_type": "stream",
     "text": [
      "total number of test numbers: 100000\n",
      "total number of primes in test numbers: 50136\n",
      "# primes detected correctly: 50136\n",
      "# primes detected not correctly: 0\n",
      "# non-primes detected: 26002\n",
      "# non-primes not detected: 23862\n"
     ]
    }
   ],
   "source": [
    "nb_tot = 0\n",
    "nb_primes = 0\n",
    "nb_primes_detected = 0\n",
    "nb_primes_not_detected = 0\n",
    "nb_nonprimes_detected = 0\n",
    "nb_nonprimes_not_detected = 0\n",
    "for i, p in enumerate(predictions):\n",
    "    nb_tot += 1\n",
    "    if sympy.isprime(test_numbers[i]) == 1:\n",
    "        nb_primes += 1\n",
    "        if p[1] > 0.5:\n",
    "            nb_primes_detected += 1\n",
    "        else:\n",
    "            nb_primes_not_detected += 1\n",
    "    else:\n",
    "        if p[1] <= 0.5:\n",
    "            nb_nonprimes_detected += 1\n",
    "        else:\n",
    "            nb_nonprimes_not_detected += 1\n",
    "print(\"total number of test numbers: {}\".format(nb_tot))\n",
    "print(\"total number of primes in test numbers: {}\".format(nb_primes))\n",
    "print(\"# primes detected correctly: {}\".format(nb_primes_detected))\n",
    "print(\"# primes detected not correctly: {}\".format(nb_primes_not_detected))\n",
    "print(\"# non-primes detected: {}\".format(nb_nonprimes_detected))\n",
    "print(\"# non-primes not detected: {}\".format(nb_nonprimes_not_detected))"
   ]
  }
 ],
 "metadata": {
  "kernelspec": {
   "display_name": "Python 3 (ipykernel)",
   "language": "python",
   "name": "python3"
  },
  "language_info": {
   "codemirror_mode": {
    "name": "ipython",
    "version": 3
   },
   "file_extension": ".py",
   "mimetype": "text/x-python",
   "name": "python",
   "nbconvert_exporter": "python",
   "pygments_lexer": "ipython3",
   "version": "3.7.6"
  }
 },
 "nbformat": 4,
 "nbformat_minor": 5
}
